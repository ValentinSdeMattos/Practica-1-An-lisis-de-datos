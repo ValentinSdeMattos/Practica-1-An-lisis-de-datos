{
 "cells": [
  {
   "cell_type": "code",
   "execution_count": 3,
   "metadata": {},
   "outputs": [],
   "source": [
    "import requests\n",
    "import json\n",
    "\n",
    "fechas = [\"01-01-2024\", \"01-07-2024\"]\n",
    "result = []\n",
    "\n",
    "for fecha in fechas:\n",
    "    url = f'https://api.coingecko.com/api/v3/coins/bitcoin/history?date={fecha}'\n",
    "    response = requests.get(url)\n",
    "    data = response.json()\n",
    "    datos = {}\n",
    "    datos[\"usd\"] = data[\"market_data\"][\"current_price\"][\"usd\"]\n",
    "    datos[\"eur\"] = data[\"market_data\"][\"current_price\"][\"eur\"]\n",
    "    result.append(datos)\n",
    "\n",
    "\n",
    "with open(\"bitcoin_historical_data.json\",\"w\") as out_file:\n",
    "    json.dump(result, out_file, indent=4)\n"
   ]
  }
 ],
 "metadata": {
  "kernelspec": {
   "display_name": "Python 3",
   "language": "python",
   "name": "python3"
  },
  "language_info": {
   "codemirror_mode": {
    "name": "ipython",
    "version": 3
   },
   "file_extension": ".py",
   "mimetype": "text/x-python",
   "name": "python",
   "nbconvert_exporter": "python",
   "pygments_lexer": "ipython3",
   "version": "3.12.3"
  }
 },
 "nbformat": 4,
 "nbformat_minor": 2
}
