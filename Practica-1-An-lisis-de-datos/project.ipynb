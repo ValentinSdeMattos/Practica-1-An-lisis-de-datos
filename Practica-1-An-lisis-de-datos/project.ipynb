{
 "cells": [
  {
   "cell_type": "markdown",
   "metadata": {},
   "source": [
    "# UCU 2024 - Proyecto 1\n",
    "Web Scraping - Proyecto para la asignatura Programación para Análisis de Datos"
   ]
  },
  {
   "cell_type": "code",
   "execution_count": 6,
   "metadata": {},
   "outputs": [],
   "source": [
    "import requests\n",
    "from bs4 import BeautifulSoup\n",
    "import json\n",
    "\n",
    "def obtener_propiedades(ciudad, url):\n",
    "    response = requests.get(url)\n",
    "    soup = BeautifulSoup(response.text, 'html.parser')\n",
    "    propiedades = []\n",
    "\n",
    "    for item in soup.find_all('div', class_='property-card'):\n",
    "        try:\n",
    "            precio = item.find('span', class_='price').text.strip()\n",
    "            tamano = item.find('span', class_='area').text.strip().replace('m²', '')\n",
    "            habitaciones = item.find('span', class_='bedrooms').text.strip()\n",
    "            link = item.find('a')['href']\n",
    "\n",
    "            propiedades.append({\n",
    "                'precio': precio,\n",
    "                'tamano': int(tamano) if tamano.isdigit() else None,\n",
    "                'habitaciones': int(habitaciones) if habitaciones.isdigit() else None,\n",
    "                'link': link\n",
    "            })\n",
    "        except Exception as e:\n",
    "            print(f\"Error al procesar una propiedad: {e}\")\n",
    "    \n",
    "    return {'ubicacion': ciudad, 'propiedades': propiedades}\n",
    "\n",
    "urls = {\n",
    "    \"Canelones\": \"https://www.santestevan.com/component/estateagent/showresult.html\",\n",
    "    \"Salto\": \"https://www.inmobiliarialarranaga.com/buscar?operacion=5&tipo%5B%5D=106&zona%5B%5D=116\",\n",
    "    \"Colonia\": \"https://www.rodriguezflorez.com/busqueda-propiedades/?location%5B%5D=colonia&status=vendido&type%5B%5D=casas\"\n",
    "}\n",
    "\n",
    "ciudades_data = []\n",
    "for ciudad, url in urls.items():\n",
    "    ciudades_data.append(obtener_propiedades(ciudad, url))\n",
    "\n",
    "with open('propiedades.json', 'w') as json_file:\n",
    "    json.dump({\"ciudades\": ciudades_data}, json_file, indent=4)\n"
   ]
  }
 ],
 "metadata": {
  "kernelspec": {
   "display_name": "Python 3",
   "language": "python",
   "name": "python3"
  },
  "language_info": {
   "codemirror_mode": {
    "name": "ipython",
    "version": 3
   },
   "file_extension": ".py",
   "mimetype": "text/x-python",
   "name": "python",
   "nbconvert_exporter": "python",
   "pygments_lexer": "ipython3",
   "version": "3.12.3"
  }
 },
 "nbformat": 4,
 "nbformat_minor": 2
}
